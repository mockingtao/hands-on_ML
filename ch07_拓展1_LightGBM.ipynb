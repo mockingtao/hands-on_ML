{
 "cells": [
  {
   "cell_type": "markdown",
   "id": "10f5a267",
   "metadata": {},
   "source": [
    "# 概述"
   ]
  },
  {
   "cell_type": "markdown",
   "id": "899ea21f",
   "metadata": {},
   "source": [
    "- 原论文：https://papers.nips.cc/paper/6907-lightgbm-a-highly-efficient-gradient-boosting-decision-tree.pdf\n",
    "- 源代码：https://github.com/microsoft/LightGBM\n",
    "- 官方文档：https://lightgbm.readthedocs.io/en/latest/Parameters.html\n",
    "- LightGBM源码阅读+理论分析：https://mp.weixin.qq.com/s/XxFHmxV4_iDq8ksFuZM02w"
   ]
  },
  {
   "cell_type": "markdown",
   "id": "27ec9af3",
   "metadata": {},
   "source": [
    "LightGBM在实际代码实现的时候采用了多种“快”的技术集合，但就原论文的而言主要提出了两大技术：\n",
    "\n",
    " （1）GOSS(Gradient-based One-Side Sampling)：减少样本数\n",
    " \n",
    " （2）EFB (Exclusive Feature Bundling ):减少特征数"
   ]
  },
  {
   "cell_type": "code",
   "execution_count": null,
   "id": "c827d493",
   "metadata": {},
   "outputs": [],
   "source": []
  },
  {
   "cell_type": "code",
   "execution_count": null,
   "id": "36601940",
   "metadata": {},
   "outputs": [],
   "source": []
  },
  {
   "cell_type": "code",
   "execution_count": null,
   "id": "78477145",
   "metadata": {},
   "outputs": [],
   "source": []
  },
  {
   "cell_type": "code",
   "execution_count": null,
   "id": "950cd1b5",
   "metadata": {},
   "outputs": [],
   "source": []
  },
  {
   "cell_type": "code",
   "execution_count": null,
   "id": "c773daf9",
   "metadata": {},
   "outputs": [],
   "source": []
  },
  {
   "cell_type": "code",
   "execution_count": null,
   "id": "976f3302",
   "metadata": {},
   "outputs": [],
   "source": []
  },
  {
   "cell_type": "code",
   "execution_count": null,
   "id": "7342e935",
   "metadata": {},
   "outputs": [],
   "source": []
  }
 ],
 "metadata": {
  "kernelspec": {
   "display_name": "Python 3",
   "language": "python",
   "name": "python3"
  },
  "language_info": {
   "codemirror_mode": {
    "name": "ipython",
    "version": 3
   },
   "file_extension": ".py",
   "mimetype": "text/x-python",
   "name": "python",
   "nbconvert_exporter": "python",
   "pygments_lexer": "ipython3",
   "version": "3.8.8"
  },
  "toc": {
   "base_numbering": 1,
   "nav_menu": {},
   "number_sections": true,
   "sideBar": true,
   "skip_h1_title": false,
   "title_cell": "Table of Contents",
   "title_sidebar": "Contents",
   "toc_cell": false,
   "toc_position": {
    "height": "calc(100% - 180px)",
    "left": "10px",
    "top": "150px",
    "width": "238px"
   },
   "toc_section_display": true,
   "toc_window_display": true
  }
 },
 "nbformat": 4,
 "nbformat_minor": 5
}
