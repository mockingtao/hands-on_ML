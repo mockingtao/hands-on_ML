{
 "cells": [
  {
   "cell_type": "markdown",
   "id": "0bc021bf",
   "metadata": {},
   "source": [
    "梯度提升决策树（Gradient Boosting Decision Tree，GBDT）是一种基于boosting集成学习思想的加法模型，训练时采用前向分布算法进行贪婪的学习，每次迭代都学习一棵CART树来拟合之前 t-1 棵树的预测结果与训练样本真实值的残差。"
   ]
  },
  {
   "cell_type": "markdown",
   "id": "43f2c0f1",
   "metadata": {
    "ExecuteTime": {
     "end_time": "2023-02-21T23:49:41.542243Z",
     "start_time": "2023-02-21T23:49:41.530908Z"
    }
   },
   "source": [
    "知识范畴：\n",
    "- CART树、集成学习、梯度下降等GBDT梯度提升树模型的基础知识；\n",
    "- 提升树(Boosting Tree) 原理、提升树的例子、提升树的Python实现、残差、GBDT原理、GBDT的例子、GBDT的Sklearn实现、GBDT的可视化\n",
    "- GBDT模型的应用，比如特征组合，二分类、多分类等\n",
    "- GBDT模型进行总结，指出GBDT模型的优缺点，并与RF随机森林模型进行对比，并指出GBDT模型发展——XGBoost"
   ]
  },
  {
   "cell_type": "markdown",
   "id": "a4bef3cc",
   "metadata": {},
   "source": [
    "# GBDT 基础"
   ]
  },
  {
   "cell_type": "markdown",
   "id": "b49e5313",
   "metadata": {},
   "source": [
    "## CART"
   ]
  },
  {
   "cell_type": "markdown",
   "id": "ba3046b3",
   "metadata": {},
   "source": [
    "CART树可以分为回归树和决策树。GBDT中的树是CART回归树。\n",
    "\n"
   ]
  },
  {
   "cell_type": "code",
   "execution_count": null,
   "id": "d6a9256f",
   "metadata": {},
   "outputs": [],
   "source": []
  },
  {
   "cell_type": "code",
   "execution_count": null,
   "id": "c30643c7",
   "metadata": {},
   "outputs": [],
   "source": []
  },
  {
   "cell_type": "code",
   "execution_count": null,
   "id": "54c5c9ad",
   "metadata": {},
   "outputs": [],
   "source": []
  },
  {
   "cell_type": "code",
   "execution_count": null,
   "id": "99816efb",
   "metadata": {},
   "outputs": [],
   "source": []
  },
  {
   "cell_type": "code",
   "execution_count": null,
   "id": "af287f39",
   "metadata": {},
   "outputs": [],
   "source": []
  }
 ],
 "metadata": {
  "kernelspec": {
   "display_name": "Python 3",
   "language": "python",
   "name": "python3"
  },
  "language_info": {
   "codemirror_mode": {
    "name": "ipython",
    "version": 3
   },
   "file_extension": ".py",
   "mimetype": "text/x-python",
   "name": "python",
   "nbconvert_exporter": "python",
   "pygments_lexer": "ipython3",
   "version": "3.8.8"
  },
  "toc": {
   "base_numbering": 1,
   "nav_menu": {},
   "number_sections": true,
   "sideBar": true,
   "skip_h1_title": false,
   "title_cell": "Table of Contents",
   "title_sidebar": "Contents",
   "toc_cell": false,
   "toc_position": {
    "height": "calc(100% - 180px)",
    "left": "10px",
    "top": "150px",
    "width": "166px"
   },
   "toc_section_display": true,
   "toc_window_display": true
  }
 },
 "nbformat": 4,
 "nbformat_minor": 5
}
