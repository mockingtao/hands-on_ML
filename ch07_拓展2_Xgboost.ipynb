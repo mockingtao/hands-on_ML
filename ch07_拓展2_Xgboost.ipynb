{
 "cells": [
  {
   "cell_type": "markdown",
   "id": "3d2370a9",
   "metadata": {},
   "source": [
    "# 概述\n",
    "\n",
    "Xgboost完全详细解读（原理+代码）：https://zhuanlan.zhihu.com/p/290964953\n",
    "深入理解XGboost：https://zhuanlan.zhihu.com/p/83901304\n",
    "深入理解Catboost：https://zhuanlan.zhihu.com/p/102540344\n",
    "深入理解Lightgbm：https://zhuanlan.zhihu.com/p/99069186"
   ]
  },
  {
   "cell_type": "markdown",
   "id": "3b1af4a3",
   "metadata": {},
   "source": [
    "我们xgboost的学习路径可以按照下面四个步骤来：\n",
    "\n",
    "- 构造原始目标函数问题：\n",
    "    - xgboost目标函数包含损失函数和基于树的复杂度的正则项；\n",
    "\n",
    "\n",
    "- 泰勒展开问题：\n",
    "    - 原始目标函数直接优化比较难，如何使用泰勒二阶展开进行近似；\n",
    "    \n",
    "\n",
    "- 树参数化问题：\n",
    "    - 假设弱学习器为树模型，如何将树参数化，并入到目标函数中；这一步的核心就是要明白我们模型优化的核心就是优化参数，没有参数怎么训练样本，怎么对新样本进行预测呢？\n",
    "    \n",
    "\n",
    "- 如何优化化简之后的目标函数问题：\n",
    "    - 优化泰勒展开并模型参数化之后的的目标函数，主要包含两个部分：\n",
    "        - 如何求得叶子节点权重\n",
    "        - 如何进行树模型特征分割"
   ]
  },
  {
   "cell_type": "markdown",
   "id": "3d936973",
   "metadata": {},
   "source": [
    "# CART"
   ]
  },
  {
   "cell_type": "code",
   "execution_count": null,
   "id": "fcd24c9e",
   "metadata": {},
   "outputs": [],
   "source": [
    "既然是回归树，那么必然会存在以下两个核心问题：\n",
    "\n",
    "如何选择划分点？\n",
    "如何决定树中叶节点的输出值？"
   ]
  },
  {
   "cell_type": "code",
   "execution_count": null,
   "id": "11b5e74e",
   "metadata": {},
   "outputs": [],
   "source": []
  },
  {
   "cell_type": "code",
   "execution_count": null,
   "id": "237b6e14",
   "metadata": {},
   "outputs": [],
   "source": []
  },
  {
   "cell_type": "code",
   "execution_count": null,
   "id": "bf8222e3",
   "metadata": {},
   "outputs": [],
   "source": []
  },
  {
   "cell_type": "code",
   "execution_count": null,
   "id": "9ad05292",
   "metadata": {},
   "outputs": [],
   "source": []
  },
  {
   "cell_type": "code",
   "execution_count": null,
   "id": "e7b01ba4",
   "metadata": {},
   "outputs": [],
   "source": []
  },
  {
   "cell_type": "code",
   "execution_count": null,
   "id": "f5187f40",
   "metadata": {},
   "outputs": [],
   "source": []
  }
 ],
 "metadata": {
  "kernelspec": {
   "display_name": "Python 3",
   "language": "python",
   "name": "python3"
  },
  "language_info": {
   "codemirror_mode": {
    "name": "ipython",
    "version": 3
   },
   "file_extension": ".py",
   "mimetype": "text/x-python",
   "name": "python",
   "nbconvert_exporter": "python",
   "pygments_lexer": "ipython3",
   "version": "3.8.8"
  },
  "toc": {
   "base_numbering": 1,
   "nav_menu": {},
   "number_sections": true,
   "sideBar": true,
   "skip_h1_title": false,
   "title_cell": "Table of Contents",
   "title_sidebar": "Contents",
   "toc_cell": false,
   "toc_position": {
    "height": "calc(100% - 180px)",
    "left": "10px",
    "top": "150px",
    "width": "165px"
   },
   "toc_section_display": true,
   "toc_window_display": true
  }
 },
 "nbformat": 4,
 "nbformat_minor": 5
}
